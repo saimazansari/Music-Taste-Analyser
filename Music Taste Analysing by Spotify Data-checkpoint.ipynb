{
 "cells": [
  {
   "cell_type": "code",
   "execution_count": 92,
   "metadata": {},
   "outputs": [],
   "source": [
    "#importing neccessary libraries.\n",
    "import pandas as pd \n",
    "import matplotlib.pyplot as plt\n",
    "import seaborn as sns\n",
    "import matplotlib.ticker as ticker\n",
    "from sklearn import datasets, linear_model\n",
    "from sklearn.decomposition import PCA\n",
    "from sklearn.preprocessing import MinMaxScaler\n",
    "from sklearn.manifold import TSNE\n",
    "%matplotlib inline"
   ]
  },
  {
   "cell_type": "code",
   "execution_count": 98,
   "metadata": {},
   "outputs": [
    {
     "data": {
      "text/html": [
       "<div>\n",
       "<style scoped>\n",
       "    .dataframe tbody tr th:only-of-type {\n",
       "        vertical-align: middle;\n",
       "    }\n",
       "\n",
       "    .dataframe tbody tr th {\n",
       "        vertical-align: top;\n",
       "    }\n",
       "\n",
       "    .dataframe thead th {\n",
       "        text-align: right;\n",
       "    }\n",
       "</style>\n",
       "<table border=\"1\" class=\"dataframe\">\n",
       "  <thead>\n",
       "    <tr style=\"text-align: right;\">\n",
       "      <th></th>\n",
       "      <th>Unnamed: 0</th>\n",
       "      <th>id</th>\n",
       "      <th>name</th>\n",
       "      <th>album</th>\n",
       "      <th>artist</th>\n",
       "      <th>release_date</th>\n",
       "      <th>length</th>\n",
       "      <th>popularity</th>\n",
       "      <th>danceability</th>\n",
       "      <th>acousticness</th>\n",
       "      <th>...</th>\n",
       "      <th>energy</th>\n",
       "      <th>instrumentalness</th>\n",
       "      <th>liveness</th>\n",
       "      <th>loudness</th>\n",
       "      <th>speechiness</th>\n",
       "      <th>tempo</th>\n",
       "      <th>time_signature</th>\n",
       "      <th>valence</th>\n",
       "      <th>duration_ms</th>\n",
       "      <th>key</th>\n",
       "    </tr>\n",
       "  </thead>\n",
       "  <tbody>\n",
       "    <tr>\n",
       "      <th>0</th>\n",
       "      <td>0</td>\n",
       "      <td>4eHbdreAnSOrDDsFfc4Fpm</td>\n",
       "      <td>I Will Always Love You</td>\n",
       "      <td>The Bodyguard - Original Soundtrack Album</td>\n",
       "      <td>Whitney Houston</td>\n",
       "      <td>1992-11-17</td>\n",
       "      <td>271093</td>\n",
       "      <td>77</td>\n",
       "      <td>0.306</td>\n",
       "      <td>0.8440</td>\n",
       "      <td>...</td>\n",
       "      <td>0.214</td>\n",
       "      <td>0.000005</td>\n",
       "      <td>0.0839</td>\n",
       "      <td>-12.518</td>\n",
       "      <td>0.0356</td>\n",
       "      <td>66.980</td>\n",
       "      <td>4</td>\n",
       "      <td>0.108</td>\n",
       "      <td>271093</td>\n",
       "      <td>4</td>\n",
       "    </tr>\n",
       "    <tr>\n",
       "      <th>1</th>\n",
       "      <td>1</td>\n",
       "      <td>6cARFkZxx2JR3JlvDzeLZc</td>\n",
       "      <td>Love of the Common People</td>\n",
       "      <td>From Time To Time - The Singles Collection</td>\n",
       "      <td>Paul Young</td>\n",
       "      <td>1991-09-07</td>\n",
       "      <td>220733</td>\n",
       "      <td>56</td>\n",
       "      <td>0.744</td>\n",
       "      <td>0.0883</td>\n",
       "      <td>...</td>\n",
       "      <td>0.609</td>\n",
       "      <td>0.000000</td>\n",
       "      <td>0.0599</td>\n",
       "      <td>-11.202</td>\n",
       "      <td>0.0758</td>\n",
       "      <td>90.723</td>\n",
       "      <td>4</td>\n",
       "      <td>0.893</td>\n",
       "      <td>220733</td>\n",
       "      <td>9</td>\n",
       "    </tr>\n",
       "    <tr>\n",
       "      <th>2</th>\n",
       "      <td>2</td>\n",
       "      <td>1rO1CMRf4RrnkqRlnKvoqs</td>\n",
       "      <td>Because I Love You</td>\n",
       "      <td>The Hits Of Shakin' Stevens Vol II</td>\n",
       "      <td>Shakin' Stevens</td>\n",
       "      <td>1997-01-01</td>\n",
       "      <td>197600</td>\n",
       "      <td>40</td>\n",
       "      <td>0.587</td>\n",
       "      <td>0.2440</td>\n",
       "      <td>...</td>\n",
       "      <td>0.343</td>\n",
       "      <td>0.000120</td>\n",
       "      <td>0.1180</td>\n",
       "      <td>-12.891</td>\n",
       "      <td>0.0255</td>\n",
       "      <td>102.070</td>\n",
       "      <td>4</td>\n",
       "      <td>0.481</td>\n",
       "      <td>197600</td>\n",
       "      <td>8</td>\n",
       "    </tr>\n",
       "    <tr>\n",
       "      <th>3</th>\n",
       "      <td>3</td>\n",
       "      <td>3zr2s3o2Ye1j6t0ZMdoUYi</td>\n",
       "      <td>Song For Zula</td>\n",
       "      <td>Muchacho De Lujo (Deluxe Edition)</td>\n",
       "      <td>Phosphorescent</td>\n",
       "      <td>2013-10-29</td>\n",
       "      <td>370200</td>\n",
       "      <td>59</td>\n",
       "      <td>0.492</td>\n",
       "      <td>0.7290</td>\n",
       "      <td>...</td>\n",
       "      <td>0.626</td>\n",
       "      <td>0.533000</td>\n",
       "      <td>0.0509</td>\n",
       "      <td>-8.260</td>\n",
       "      <td>0.0349</td>\n",
       "      <td>86.016</td>\n",
       "      <td>4</td>\n",
       "      <td>0.524</td>\n",
       "      <td>370200</td>\n",
       "      <td>4</td>\n",
       "    </tr>\n",
       "    <tr>\n",
       "      <th>4</th>\n",
       "      <td>4</td>\n",
       "      <td>3VN8gOBCgbQqsGQsd1Opve</td>\n",
       "      <td>Song for Zula</td>\n",
       "      <td>Built to Break</td>\n",
       "      <td>Ronnie Fauss</td>\n",
       "      <td>2014-11-04</td>\n",
       "      <td>296840</td>\n",
       "      <td>32</td>\n",
       "      <td>0.506</td>\n",
       "      <td>0.7340</td>\n",
       "      <td>...</td>\n",
       "      <td>0.422</td>\n",
       "      <td>0.000013</td>\n",
       "      <td>0.0737</td>\n",
       "      <td>-6.931</td>\n",
       "      <td>0.0246</td>\n",
       "      <td>142.009</td>\n",
       "      <td>4</td>\n",
       "      <td>0.290</td>\n",
       "      <td>296840</td>\n",
       "      <td>9</td>\n",
       "    </tr>\n",
       "  </tbody>\n",
       "</table>\n",
       "<p>5 rows × 21 columns</p>\n",
       "</div>"
      ],
      "text/plain": [
       "   Unnamed: 0                      id                       name  \\\n",
       "0           0  4eHbdreAnSOrDDsFfc4Fpm     I Will Always Love You   \n",
       "1           1  6cARFkZxx2JR3JlvDzeLZc  Love of the Common People   \n",
       "2           2  1rO1CMRf4RrnkqRlnKvoqs         Because I Love You   \n",
       "3           3  3zr2s3o2Ye1j6t0ZMdoUYi              Song For Zula   \n",
       "4           4  3VN8gOBCgbQqsGQsd1Opve              Song for Zula   \n",
       "\n",
       "                                        album           artist release_date  \\\n",
       "0   The Bodyguard - Original Soundtrack Album  Whitney Houston   1992-11-17   \n",
       "1  From Time To Time - The Singles Collection       Paul Young   1991-09-07   \n",
       "2          The Hits Of Shakin' Stevens Vol II  Shakin' Stevens   1997-01-01   \n",
       "3           Muchacho De Lujo (Deluxe Edition)   Phosphorescent   2013-10-29   \n",
       "4                              Built to Break     Ronnie Fauss   2014-11-04   \n",
       "\n",
       "   length  popularity  danceability  acousticness  ...  energy  \\\n",
       "0  271093          77         0.306        0.8440  ...   0.214   \n",
       "1  220733          56         0.744        0.0883  ...   0.609   \n",
       "2  197600          40         0.587        0.2440  ...   0.343   \n",
       "3  370200          59         0.492        0.7290  ...   0.626   \n",
       "4  296840          32         0.506        0.7340  ...   0.422   \n",
       "\n",
       "   instrumentalness  liveness  loudness  speechiness    tempo  time_signature  \\\n",
       "0          0.000005    0.0839   -12.518       0.0356   66.980               4   \n",
       "1          0.000000    0.0599   -11.202       0.0758   90.723               4   \n",
       "2          0.000120    0.1180   -12.891       0.0255  102.070               4   \n",
       "3          0.533000    0.0509    -8.260       0.0349   86.016               4   \n",
       "4          0.000013    0.0737    -6.931       0.0246  142.009               4   \n",
       "\n",
       "   valence  duration_ms  key  \n",
       "0    0.108       271093    4  \n",
       "1    0.893       220733    9  \n",
       "2    0.481       197600    8  \n",
       "3    0.524       370200    4  \n",
       "4    0.290       296840    9  \n",
       "\n",
       "[5 rows x 21 columns]"
      ]
     },
     "execution_count": 98,
     "metadata": {},
     "output_type": "execute_result"
    }
   ],
   "source": [
    "#The values of the audio features for each song came from the Spotify Web API and the Spotipy Python library.\n",
    "data = pd.read_csv(r\"C:\\Users\\saima\\Desktop\\spotify.csv\")\n",
    "data.head()"
   ]
  },
  {
   "cell_type": "code",
   "execution_count": 99,
   "metadata": {},
   "outputs": [
    {
     "data": {
      "text/plain": [
       "<matplotlib.axes._subplots.AxesSubplot at 0x1df0cb7e040>"
      ]
     },
     "execution_count": 99,
     "metadata": {},
     "output_type": "execute_result"
    },
    {
     "data": {
      "image/png": "[encoded data removed]",
      "text/plain": [
       "<Figure size 1080x1080 with 2 Axes>"
      ]
     },
     "metadata": {
      "needs_background": "light"
     },
     "output_type": "display_data"
    }
   ],
   "source": [
    "#A heatmap is a graphical representation of data in which data values are represented as colors. That is, it uses color in order to communicate a value to the reader.\n",
    "f,ax = plt.subplots(figsize=(15, 15))\n",
    "sns.heatmap(data.corr(), annot=True, linewidths=.5, fmt= '.1f',ax=ax, cmap=\"RdBu\")"
   ]
  },
  {
   "cell_type": "markdown",
   "metadata": {},
   "source": [
    "*Created a list of \"specific\" traits and use principal component analysis(PCA) to reduce the dimensions of that list to 3, effectively creating a matrix suitable for generating the following 3-dimensional plot. The lesser the distance between any two songs, the larger the similarities in their traits.*\n"
   ]
  },
  {
   "cell_type": "code",
   "execution_count": 85,
   "metadata": {},
   "outputs": [
    {
     "data": {
      "text/html": [
       "        <script type=\"text/javascript\">\n",
       "        window.PlotlyConfig = {MathJaxConfig: 'local'};\n",
       "        if (window.MathJax) {MathJax.Hub.Config({SVG: {font: \"STIX-Web\"}});}\n",
       "        if (typeof require !== 'undefined') {\n",
       "        require.undef(\"plotly\");\n",
       "        requirejs.config({\n",
       "            paths: {\n",
       "                'plotly': ['https://cdn.plot.ly/plotly-latest.min']\n",
       "            }\n",
       "        });\n",
       "        require(['plotly'], function(Plotly) {\n",
       "            window._Plotly = Plotly;\n",
       "        });\n",
       "        }\n",
       "        </script>\n",
       "        "
      ]
     },
     "metadata": {},
     "output_type": "display_data"
    },
    {
     "data": {
      "application/vnd.plotly.v1+json": {
       "config": {
        "linkText": "Export to plot.ly",
        "plotlyServerURL": "https://plot.ly",
        "showLink": false
       },
       "data": [
        {
         "marker": {
          "color": [
           0.306,
           0.7440000000000001,
           0.5870000000000001,
           0.49200000000000005,
           0.506,
           0.5720000000000001,
           0.44299999999999995,
           0.27699999999999997,
           0.157,
           0.633,
           0.785,
           0.688,
           0.645,
           0.648,
           0.519,
           0.835,
           0.77,
           0.8109999999999999,
           0.696,
           0.8140000000000001,
           0.863,
           0.8029999999999999,
           0.662,
           0.67,
           0.731,
           0.684,
           0.674,
           0.903,
           0.439,
           0.534,
           0.893,
           0.701,
           0.35100000000000003,
           0.7040000000000001,
           0.674,
           0.677,
           0.636,
           0.67,
           0.7070000000000001,
           0.856,
           0.659,
           0.569,
           0.183,
           0.314,
           0.5589999999999999,
           0.287,
           0.557,
           0.787,
           0.764,
           0.606,
           0.7290000000000001,
           0.7170000000000001,
           0.608,
           0.5710000000000001,
           0.5479999999999999,
           0.602,
           0.7390000000000001,
           0.59,
           0.728,
           0.691,
           0.611,
           0.7170000000000001,
           0.262,
           0.6709999999999999,
           0.414,
           0.42200000000000004,
           0.752,
           0.6990000000000001,
           0.762,
           0.6970000000000001,
           0.774,
           0.765,
           0.845,
           0.759,
           0.752,
           0.7040000000000001,
           0.40700000000000003,
           0.607,
           0.599,
           0.56,
           0.65,
           0.7509999999999999,
           0.6609999999999999,
           0.647,
           0.743,
           0.604,
           0.703,
           0.54,
           0.622,
           0.6709999999999999,
           0.7070000000000001,
           0.505,
           0.484,
           0.536,
           0.691,
           0.585,
           0.397,
           0.63,
           0.445,
           0.619
          ],
          "size": 12
         },
         "mode": "markers",
         "text": [
          "Whitney Houston - I Will Always Love You",
          "Paul Young - Love of the Common People",
          "Shakin' Stevens - Because I Love You",
          "Phosphorescent - Song For Zula",
          "Ronnie Fauss - Song for Zula",
          "Paul Young - Every Time You Go Away - Radio Edit",
          "Lord Huron - The Night We Met",
          "Harry James - It's Been a Long, Long Time",
          "James Horner - My Heart Will Go On - Love Theme from \"Titanic\"",
          "Bee Gees - How Deep Is Your Love",
          "Little Mix - Love Me Like You",
          "Enrique Iglesias - Still Your King",
          "BTS - Boy With Luv (feat. Halsey)",
          "Phoebe Ryan - Dollar Bill (feat. Kid Ink)",
          "Zara Larsson - Invisible - from the Netflix Film Klaus",
          "Dj Orlinda - Somebody Come Get Her",
          "SAINt JHN - Roses - Imanbek Remix",
          "Justin Bieber - Intentions",
          "Britney Spears - Criminal",
          "Wiz Khalifa - Something New (feat. Ty Dolla $ign)",
          "BENEE - Supalonely",
          "KAROL G - Tusa",
          "Ariana Grande - in my head",
          "Alan Walker - Alone, Pt. II",
          "Surf Mesa - Somewhere (feat. Gus Dapperton)",
          "Marshmello - Be Kind (with Halsey) [Surf Mesa Remix]",
          "Surf Mesa - ily (i love you baby) (feat. Emilee)",
          "LPB Poody - Address It",
          "Christina Perri - human",
          "Ryan L Stewart - Memories",
          "Princess Nokia - I Like Him",
          "Billie Eilish - bad guy",
          "Billie Eilish - lovely (with Khalid)",
          "Billie Eilish - everything i wanted",
          "Becky G - Next To You Part II (feat. Rvssian & Davido)",
          "Niall Horan - This Town",
          "Various Artists - Just The Way You Are",
          "Chris Brown - Next To You (feat. Justin Bieber)",
          "Doja Cat - Boss Bitch",
          "Doja Cat - Say So (feat. Nicki Minaj)",
          "Arash - Broken Angel",
          "The Chainsmokers - Until You Were Gone (feat. Emily Warren)",
          "Jan A.P. Kaczmarek - Braille",
          "Yiruma - River Flows In You",
          "Yiruma - Kiss The Rain",
          "Yiruma - River Flows in You",
          "Yiruma - Kiss the Rain",
          "Doja Cat - Say So",
          "Maroon 5 - Memories",
          "PUBLIC - Make You Mine",
          "Justin Bieber - Love Me",
          "Justin Bieber - Boyfriend",
          "Major Lazer - Cold Water (feat. Justin Bieber & MØ)",
          "Justin Bieber - As Long As You Love Me",
          "David Guetta - 2U (feat. Justin Bieber)",
          "Justin Bieber - Beauty And A Beat",
          "Justin Bieber - Never Say Never",
          "Justin Bieber - Company",
          "Justin Bieber - Baby",
          "Justin Bieber - One Time",
          "ZAYN - iT's YoU",
          "Ariana Grande - thank u, next",
          "Ellie Goulding - Love Me Like You Do - From \"Fifty Shades Of Grey\"",
          "Katy Perry - Roar",
          "Calvin Harris - Blame (feat. John Newman)",
          "John Legend - All of Me",
          "Halsey - Without Me",
          "Ariana Grande - no tears left to cry",
          "Dua Lipa - New Rules",
          "Anne-Marie - 2002",
          "MAGIC! - Rude",
          "Camila Cabello - Havana (feat. Young Thug)",
          "Justin Bieber - What Do You Mean?",
          "Shawn Mendes - Señorita",
          "Lauv - I Like Me Better",
          "Madison Beer - Hurts Like Hell (feat. Offset)",
          "Olivia O'Brien - hate u love u",
          "Cheat Codes - Only You (with Little Mix)",
          "Lauv - i'm so tired...",
          "benny blanco - Eastside (with Halsey & Khalid)",
          "Camila Cabello - She Loves Control",
          "Camila Cabello - Havana - Remix",
          "Various Artists - Capital Letters",
          "Rita Ora - Falling to Pieces",
          "Maroon 5 - Payphone",
          "Various Artists - Sunflower (Remix) [with Swae Lee, Nicky Jam, and Prince Royce]",
          "Ariana Grande - Bang Bang",
          "Ariana Grande - My Everything",
          "Ariana Grande - Be My Baby",
          "Ariana Grande - Focus",
          "Jessie J - Bang Bang",
          "Ariana Grande - Thinking Bout You",
          "Ariana Grande - Knew Better / Forever Boy",
          "Ariana Grande - Touch It",
          "Ariana Grande - Bad Decisions",
          "Ariana Grande - I Don't Care",
          "Ariana Grande - Sometimes",
          "Ariana Grande - Everyday",
          "Ariana Grande - Leave Me Lonely",
          "Ariana Grande - Greedy"
         ],
         "type": "scatter3d",
         "x": [
          0.8401130762785083,
          -0.2874425789236303,
          0.1776866834328497,
          0.4930777246132785,
          0.4659433409616997,
          -0.23193809580756805,
          0.7923049741019799,
          0.7296291705970105,
          1.0560028438133855,
          -0.06704658154333702,
          -0.38332157443222087,
          -0.5242813352945915,
          -0.44814072158663454,
          -0.33296629920344445,
          -0.20499603885254017,
          -0.07001880979185937,
          -0.5161244675295831,
          -0.19817420873636982,
          -0.37965739887300387,
          -0.35963035454302983,
          -0.2801880348695238,
          -0.2801589732728794,
          -0.05463589742075359,
          -0.01714233728264404,
          -0.3470770353210099,
          -0.26125521388490774,
          -0.2325204188828182,
          -0.2086153666740214,
          0.08671442729358438,
          1.285529502632329,
          -0.28976152751159767,
          0.06713650691338235,
          0.8082198395169972,
          0.943870743440398,
          -0.053493028311196636,
          0.44902945862515975,
          -0.3166634663793084,
          -0.21663736825105764,
          -0.43271390626462364,
          -0.453754641017611,
          -0.22788124436869106,
          -0.09729393054289913,
          1.6020265649905516,
          1.4281235135796408,
          1.390614526684327,
          1.2799906814886226,
          1.2717257836144598,
          -0.3138544250833819,
          0.35364160027195257,
          -0.37802241042131457,
          -0.49433298990402386,
          -0.14949689961554116,
          -0.283034884060734,
          -0.4051912924376655,
          -0.12021165539253015,
          -0.3418980360982137,
          -0.4459960929511313,
          -0.20592210994334106,
          -0.404951810788771,
          -0.46471459981873403,
          0.625601991170525,
          -0.11209921253802528,
          0.1719713890228794,
          -0.343139940140111,
          -0.2507399674477234,
          0.6509578719670744,
          -0.028533937818180068,
          -0.25213856896343695,
          -0.36607557308135574,
          -0.3768346178537509,
          -0.5263029746654667,
          -0.11116398506914628,
          -0.008060816050850579,
          -0.3110863785448962,
          0.11183638361138161,
          -0.1846722298781687,
          0.4763377111966717,
          -0.16241044751453923,
          -0.21668044766927863,
          0.13809413578417967,
          -0.3115895685253208,
          0.012895748920143052,
          -0.29931166355272526,
          -0.2324972287342722,
          -0.38285090985894593,
          -0.05393563084010593,
          -0.29084264500187057,
          0.5048457434886886,
          -0.12430346326461826,
          -0.412581807863519,
          -0.31015050176749526,
          -0.19352073330418787,
          0.12681660186746238,
          -0.16681749347808467,
          -0.4099295818769477,
          0.49411044697642825,
          -0.24004015734303033,
          -0.2826008999893377,
          0.3099410211995796,
          -0.4027205635309946
         ],
         "y": [
          0.5263442430271629,
          -0.19148458185664285,
          0.09639473989803635,
          -0.10837029842330158,
          0.12949325107792328,
          -0.34300983094916054,
          -0.14271316823186284,
          0.3075588462851309,
          0.5617799564302143,
          -0.017215937381376653,
          -0.20760489472993351,
          -0.21965087391302784,
          -0.1661903676983358,
          0.12099915733832263,
          0.356187215379324,
          0.22229482979484197,
          -0.3051635124033421,
          -0.3784023504638495,
          -0.050322959831303325,
          -0.10434241466502613,
          -0.2899884469603598,
          -0.10637388139204254,
          0.09596441830299669,
          0.055825391302176834,
          -0.1243599291346627,
          0.09611299446626173,
          0.10088417544761166,
          0.024235203810371142,
          0.2378222982917599,
          -0.2986935929258438,
          -0.24136082487024327,
          -0.35978438576035593,
          0.34210318438816767,
          -0.3121172745074933,
          0.22718409956968205,
          0.1995446541723398,
          0.15454268015227554,
          0.2000033200852158,
          -0.13591657944438135,
          -0.29682549805432823,
          -0.0837319944924841,
          0.1673172533154263,
          -0.20164912958333292,
          -0.3317540339602516,
          -0.4337188374120467,
          -0.4756973587050905,
          -0.3343793319864021,
          -0.21590631456772152,
          -0.028779527620914742,
          0.07525944843846419,
          -0.08545370286185415,
          0.22799806488650098,
          0.17771721757009307,
          -0.10077808259193939,
          -0.058874057527947755,
          0.06255349111467967,
          -0.014951411252962836,
          0.22973069771041701,
          0.1610958667194274,
          -0.17351540588042932,
          0.15447297316914388,
          0.11896911699010357,
          0.11491063369632178,
          0.18002039531208738,
          0.19617968120049217,
          0.1769090174274348,
          -0.09875663116560834,
          0.09990050034498503,
          -0.05379995415730235,
          0.050572275570853094,
          -0.3830810439174414,
          0.1480331696382531,
          -0.3316331546502769,
          -0.11755834818118686,
          -0.001650503649600327,
          0.03960174585666052,
          -0.012198782111272281,
          0.2597881594674159,
          -0.004576270854975951,
          0.11535754038879674,
          0.019160469769223913,
          0.160208562386982,
          0.16328662260533475,
          0.25416599473057194,
          0.013748357550712888,
          -0.01517668362522424,
          -0.2862475192313384,
          0.28728274302973644,
          0.04689989297948886,
          -0.26949108798970217,
          -0.29790610359524455,
          0.2284692228728026,
          0.23705589513689992,
          0.33468156632685103,
          -0.22351079190321366,
          0.1953913095372658,
          0.12580800031110298,
          0.067331285733142,
          0.21836772473516167,
          -0.12885188866999947
         ],
         "z": [
          -0.1660624127548101,
          -0.26176636161176825,
          -0.02758324720250058,
          -0.1305877543248306,
          0.12324109509328565,
          0.3225470897024673,
          0.633715972864988,
          0.006180180189301142,
          -0.08036976764109428,
          -0.020531574186840196,
          0.0022775188259187874,
          0.13753270773296183,
          0.038930126243018615,
          -0.07658376708219322,
          0.214559659592243,
          -0.20757040210141361,
          0.14956479161450295,
          -0.009332253306381658,
          0.06190011002058286,
          -0.26755581601965256,
          -0.07966700847830799,
          -0.5549518054863949,
          0.09631222007394195,
          -0.15296207972911594,
          0.11065441855148993,
          0.03697874641804309,
          0.19265298014330298,
          -0.5160813743739522,
          0.3019145103637694,
          -0.060213991055856696,
          -0.049230792993776765,
          -0.504971331262837,
          0.03938080194375079,
          -0.2010012428914093,
          -0.019003390191645757,
          -0.0629341461108726,
          0.08176164856605812,
          0.09759366626665018,
          -0.11495885947113357,
          -0.1431749346602615,
          -0.002954673603023917,
          0.13431354253092762,
          0.1920115883354589,
          0.15913550991270164,
          -0.014958188968852959,
          0.16244695887474542,
          -0.09200191503558736,
          -0.29216559324112734,
          -0.348433170244658,
          0.09526943621857703,
          0.18427383189711818,
          -0.040640766330253875,
          0.03356316928503203,
          0.30600679488365534,
          0.25727394520390634,
          0.12617625039035518,
          0.040826871107233785,
          -0.025320484837715193,
          -0.31821037707160177,
          0.1684342242228349,
          -0.019122435123733756,
          -0.06704371534244365,
          0.5731445140108911,
          0.16206902032836126,
          0.3928591883766658,
          0.025923270650857696,
          -0.02445527346036809,
          0.20322953960934398,
          0.00117380855413866,
          -0.14494252486061424,
          0.22651731910713652,
          -0.025951721076155843,
          -0.25179591282630975,
          -0.027431566312551742,
          -0.5317536676761342,
          -0.4261928736927249,
          0.12224131717492984,
          -0.10429544748652833,
          -0.15478050733490106,
          -0.5148105875430896,
          -0.18398541868443594,
          -0.04647515891490363,
          -0.06721678648930933,
          0.09710215555926087,
          0.1349616911307814,
          0.25457469792893284,
          0.25732147867259664,
          -0.2887686461372299,
          0.1979546718599608,
          -0.15318801339086655,
          0.24442991473368028,
          0.08427852948139275,
          -0.004789715071673066,
          0.16381031397976759,
          0.19368927163597763,
          -0.026919819236732773,
          -0.1654522559315422,
          0.2092654678568546,
          0.1046333655305612,
          -0.08545837438879086
         ]
        }
       ],
       "layout": {
        "template": {
         "data": {
          "bar": [
           {
            "error_x": {
             "color": "#2a3f5f"
            },
            "error_y": {
             "color": "#2a3f5f"
            },
            "marker": {
             "line": {
              "color": "#E5ECF6",
              "width": 0.5
             }
            },
            "type": "bar"
           }
          ],
          "barpolar": [
           {
            "marker": {
             "line": {
              "color": "#E5ECF6",
              "width": 0.5
             }
            },
            "type": "barpolar"
           }
          ],
          "carpet": [
           {
            "aaxis": {
             "endlinecolor": "#2a3f5f",
             "gridcolor": "white",
             "linecolor": "white",
             "minorgridcolor": "white",
             "startlinecolor": "#2a3f5f"
            },
            "baxis": {
             "endlinecolor": "#2a3f5f",
             "gridcolor": "white",
             "linecolor": "white",
             "minorgridcolor": "white",
             "startlinecolor": "#2a3f5f"
            },
            "type": "carpet"
           }
          ],
          "choropleth": [
           {
            "colorbar": {
             "outlinewidth": 0,
             "ticks": ""
            },
            "type": "choropleth"
           }
          ],
          "contour": [
           {
            "colorbar": {
             "outlinewidth": 0,
             "ticks": ""
            },
            "colorscale": [
             [
              0,
              "#0d0887"
             ],
             [
              0.1111111111111111,
              "#46039f"
             ],
             [
              0.2222222222222222,
              "#7201a8"
             ],
             [
              0.3333333333333333,
              "#9c179e"
             ],
             [
              0.4444444444444444,
              "#bd3786"
             ],
             [
              0.5555555555555556,
              "#d8576b"
             ],
             [
              0.6666666666666666,
              "#ed7953"
             ],
             [
              0.7777777777777778,
              "#fb9f3a"
             ],
             [
              0.8888888888888888,
              "#fdca26"
             ],
             [
              1,
              "#f0f921"
             ]
            ],
            "type": "contour"
           }
          ],
          "contourcarpet": [
           {
            "colorbar": {
             "outlinewidth": 0,
             "ticks": ""
            },
            "type": "contourcarpet"
           }
          ],
          "heatmap": [
           {
            "colorbar": {
             "outlinewidth": 0,
             "ticks": ""
            },
            "colorscale": [
             [
              0,
              "#0d0887"
             ],
             [
              0.1111111111111111,
              "#46039f"
             ],
             [
              0.2222222222222222,
              "#7201a8"
             ],
             [
              0.3333333333333333,
              "#9c179e"
             ],
             [
              0.4444444444444444,
              "#bd3786"
             ],
             [
              0.5555555555555556,
              "#d8576b"
             ],
             [
              0.6666666666666666,
              "#ed7953"
             ],
             [
              0.7777777777777778,
              "#fb9f3a"
             ],
             [
              0.8888888888888888,
              "#fdca26"
             ],
             [
              1,
              "#f0f921"
             ]
            ],
            "type": "heatmap"
           }
          ],
          "heatmapgl": [
           {
            "colorbar": {
             "outlinewidth": 0,
             "ticks": ""
            },
            "colorscale": [
             [
              0,
              "#0d0887"
             ],
             [
              0.1111111111111111,
              "#46039f"
             ],
             [
              0.2222222222222222,
              "#7201a8"
             ],
             [
              0.3333333333333333,
              "#9c179e"
             ],
             [
              0.4444444444444444,
              "#bd3786"
             ],
             [
              0.5555555555555556,
              "#d8576b"
             ],
             [
              0.6666666666666666,
              "#ed7953"
             ],
             [
              0.7777777777777778,
              "#fb9f3a"
             ],
             [
              0.8888888888888888,
              "#fdca26"
             ],
             [
              1,
              "#f0f921"
             ]
            ],
            "type": "heatmapgl"
           }
          ],
          "histogram": [
           {
            "marker": {
             "colorbar": {
              "outlinewidth": 0,
              "ticks": ""
             }
            },
            "type": "histogram"
           }
          ],
          "histogram2d": [
           {
            "colorbar": {
             "outlinewidth": 0,
             "ticks": ""
            },
            "colorscale": [
             [
              0,
              "#0d0887"
             ],
             [
              0.1111111111111111,
              "#46039f"
             ],
             [
              0.2222222222222222,
              "#7201a8"
             ],
             [
              0.3333333333333333,
              "#9c179e"
             ],
             [
              0.4444444444444444,
              "#bd3786"
             ],
             [
              0.5555555555555556,
              "#d8576b"
             ],
             [
              0.6666666666666666,
              "#ed7953"
             ],
             [
              0.7777777777777778,
              "#fb9f3a"
             ],
             [
              0.8888888888888888,
              "#fdca26"
             ],
             [
              1,
              "#f0f921"
             ]
            ],
            "type": "histogram2d"
           }
          ],
          "histogram2dcontour": [
           {
            "colorbar": {
             "outlinewidth": 0,
             "ticks": ""
            },
            "colorscale": [
             [
              0,
              "#0d0887"
             ],
             [
              0.1111111111111111,
              "#46039f"
             ],
             [
              0.2222222222222222,
              "#7201a8"
             ],
             [
              0.3333333333333333,
              "#9c179e"
             ],
             [
              0.4444444444444444,
              "#bd3786"
             ],
             [
              0.5555555555555556,
              "#d8576b"
             ],
             [
              0.6666666666666666,
              "#ed7953"
             ],
             [
              0.7777777777777778,
              "#fb9f3a"
             ],
             [
              0.8888888888888888,
              "#fdca26"
             ],
             [
              1,
              "#f0f921"
             ]
            ],
            "type": "histogram2dcontour"
           }
          ],
          "mesh3d": [
           {
            "colorbar": {
             "outlinewidth": 0,
             "ticks": ""
            },
            "type": "mesh3d"
           }
          ],
          "parcoords": [
           {
            "line": {
             "colorbar": {
              "outlinewidth": 0,
              "ticks": ""
             }
            },
            "type": "parcoords"
           }
          ],
          "pie": [
           {
            "automargin": true,
            "type": "pie"
           }
          ],
          "scatter": [
           {
            "marker": {
             "colorbar": {
              "outlinewidth": 0,
              "ticks": ""
             }
            },
            "type": "scatter"
           }
          ],
          "scatter3d": [
           {
            "line": {
             "colorbar": {
              "outlinewidth": 0,
              "ticks": ""
             }
            },
            "marker": {
             "colorbar": {
              "outlinewidth": 0,
              "ticks": ""
             }
            },
            "type": "scatter3d"
           }
          ],
          "scattercarpet": [
           {
            "marker": {
             "colorbar": {
              "outlinewidth": 0,
              "ticks": ""
             }
            },
            "type": "scattercarpet"
           }
          ],
          "scattergeo": [
           {
            "marker": {
             "colorbar": {
              "outlinewidth": 0,
              "ticks": ""
             }
            },
            "type": "scattergeo"
           }
          ],
          "scattergl": [
           {
            "marker": {
             "colorbar": {
              "outlinewidth": 0,
              "ticks": ""
             }
            },
            "type": "scattergl"
           }
          ],
          "scattermapbox": [
           {
            "marker": {
             "colorbar": {
              "outlinewidth": 0,
              "ticks": ""
             }
            },
            "type": "scattermapbox"
           }
          ],
          "scatterpolar": [
           {
            "marker": {
             "colorbar": {
              "outlinewidth": 0,
              "ticks": ""
             }
            },
            "type": "scatterpolar"
           }
          ],
          "scatterpolargl": [
           {
            "marker": {
             "colorbar": {
              "outlinewidth": 0,
              "ticks": ""
             }
            },
            "type": "scatterpolargl"
           }
          ],
          "scatterternary": [
           {
            "marker": {
             "colorbar": {
              "outlinewidth": 0,
              "ticks": ""
             }
            },
            "type": "scatterternary"
           }
          ],
          "surface": [
           {
            "colorbar": {
             "outlinewidth": 0,
             "ticks": ""
            },
            "colorscale": [
             [
              0,
              "#0d0887"
             ],
             [
              0.1111111111111111,
              "#46039f"
             ],
             [
              0.2222222222222222,
              "#7201a8"
             ],
             [
              0.3333333333333333,
              "#9c179e"
             ],
             [
              0.4444444444444444,
              "#bd3786"
             ],
             [
              0.5555555555555556,
              "#d8576b"
             ],
             [
              0.6666666666666666,
              "#ed7953"
             ],
             [
              0.7777777777777778,
              "#fb9f3a"
             ],
             [
              0.8888888888888888,
              "#fdca26"
             ],
             [
              1,
              "#f0f921"
             ]
            ],
            "type": "surface"
           }
          ],
          "table": [
           {
            "cells": {
             "fill": {
              "color": "#EBF0F8"
             },
             "line": {
              "color": "white"
             }
            },
            "header": {
             "fill": {
              "color": "#C8D4E3"
             },
             "line": {
              "color": "white"
             }
            },
            "type": "table"
           }
          ]
         },
         "layout": {
          "annotationdefaults": {
           "arrowcolor": "#2a3f5f",
           "arrowhead": 0,
           "arrowwidth": 1
          },
          "coloraxis": {
           "colorbar": {
            "outlinewidth": 0,
            "ticks": ""
           }
          },
          "colorscale": {
           "diverging": [
            [
             0,
             "#8e0152"
            ],
            [
             0.1,
             "#c51b7d"
            ],
            [
             0.2,
             "#de77ae"
            ],
            [
             0.3,
             "#f1b6da"
            ],
            [
             0.4,
             "#fde0ef"
            ],
            [
             0.5,
             "#f7f7f7"
            ],
            [
             0.6,
             "#e6f5d0"
            ],
            [
             0.7,
             "#b8e186"
            ],
            [
             0.8,
             "#7fbc41"
            ],
            [
             0.9,
             "#4d9221"
            ],
            [
             1,
             "#276419"
            ]
           ],
           "sequential": [
            [
             0,
             "#0d0887"
            ],
            [
             0.1111111111111111,
             "#46039f"
            ],
            [
             0.2222222222222222,
             "#7201a8"
            ],
            [
             0.3333333333333333,
             "#9c179e"
            ],
            [
             0.4444444444444444,
             "#bd3786"
            ],
            [
             0.5555555555555556,
             "#d8576b"
            ],
            [
             0.6666666666666666,
             "#ed7953"
            ],
            [
             0.7777777777777778,
             "#fb9f3a"
            ],
            [
             0.8888888888888888,
             "#fdca26"
            ],
            [
             1,
             "#f0f921"
            ]
           ],
           "sequentialminus": [
            [
             0,
             "#0d0887"
            ],
            [
             0.1111111111111111,
             "#46039f"
            ],
            [
             0.2222222222222222,
             "#7201a8"
            ],
            [
             0.3333333333333333,
             "#9c179e"
            ],
            [
             0.4444444444444444,
             "#bd3786"
            ],
            [
             0.5555555555555556,
             "#d8576b"
            ],
            [
             0.6666666666666666,
             "#ed7953"
            ],
            [
             0.7777777777777778,
             "#fb9f3a"
            ],
            [
             0.8888888888888888,
             "#fdca26"
            ],
            [
             1,
             "#f0f921"
            ]
           ]
          },
          "colorway": [
           "#636efa",
           "#EF553B",
           "#00cc96",
           "#ab63fa",
           "#FFA15A",
           "#19d3f3",
           "#FF6692",
           "#B6E880",
           "#FF97FF",
           "#FECB52"
          ],
          "font": {
           "color": "#2a3f5f"
          },
          "geo": {
           "bgcolor": "white",
           "lakecolor": "white",
           "landcolor": "#E5ECF6",
           "showlakes": true,
           "showland": true,
           "subunitcolor": "white"
          },
          "hoverlabel": {
           "align": "left"
          },
          "hovermode": "closest",
          "mapbox": {
           "style": "light"
          },
          "paper_bgcolor": "white",
          "plot_bgcolor": "#E5ECF6",
          "polar": {
           "angularaxis": {
            "gridcolor": "white",
            "linecolor": "white",
            "ticks": ""
           },
           "bgcolor": "#E5ECF6",
           "radialaxis": {
            "gridcolor": "white",
            "linecolor": "white",
            "ticks": ""
           }
          },
          "scene": {
           "xaxis": {
            "backgroundcolor": "#E5ECF6",
            "gridcolor": "white",
            "gridwidth": 2,
            "linecolor": "white",
            "showbackground": true,
            "ticks": "",
            "zerolinecolor": "white"
           },
           "yaxis": {
            "backgroundcolor": "#E5ECF6",
            "gridcolor": "white",
            "gridwidth": 2,
            "linecolor": "white",
            "showbackground": true,
            "ticks": "",
            "zerolinecolor": "white"
           },
           "zaxis": {
            "backgroundcolor": "#E5ECF6",
            "gridcolor": "white",
            "gridwidth": 2,
            "linecolor": "white",
            "showbackground": true,
            "ticks": "",
            "zerolinecolor": "white"
           }
          },
          "shapedefaults": {
           "line": {
            "color": "#2a3f5f"
           }
          },
          "ternary": {
           "aaxis": {
            "gridcolor": "white",
            "linecolor": "white",
            "ticks": ""
           },
           "baxis": {
            "gridcolor": "white",
            "linecolor": "white",
            "ticks": ""
           },
           "bgcolor": "#E5ECF6",
           "caxis": {
            "gridcolor": "white",
            "linecolor": "white",
            "ticks": ""
           }
          },
          "title": {
           "x": 0.05
          },
          "xaxis": {
           "automargin": true,
           "gridcolor": "white",
           "linecolor": "white",
           "ticks": "",
           "title": {
            "standoff": 15
           },
           "zerolinecolor": "white",
           "zerolinewidth": 2
          },
          "yaxis": {
           "automargin": true,
           "gridcolor": "white",
           "linecolor": "white",
           "ticks": "",
           "title": {
            "standoff": 15
           },
           "zerolinecolor": "white",
           "zerolinewidth": 2
          }
         }
        }
       }
      },
      "text/html": [
       "<div>\n",
       "        \n",
       "        \n",
       "            <div id=\"530e9ac6-3707-47f5-bcdd-dd659038cf1b\" class=\"plotly-graph-div\" style=\"height:525px; width:100%;\"></div>\n",
       "            <script type=\"text/javascript\">\n",
       "                require([\"plotly\"], function(Plotly) {\n",
       "                    window.PLOTLYENV=window.PLOTLYENV || {};\n",
       "                    \n",
       "                if (document.getElementById(\"530e9ac6-3707-47f5-bcdd-dd659038cf1b\")) {\n",
       "                    Plotly.newPlot(\n",
       "                        '530e9ac6-3707-47f5-bcdd-dd659038cf1b',\n",
       "                        [{\"marker\": {\"color\": [0.306, 0.7440000000000001, 0.5870000000000001, 0.49200000000000005, 0.506, 0.5720000000000001, 0.44299999999999995, 0.27699999999999997, 0.157, 0.633, 0.785, 0.688, 0.645, 0.648, 0.519, 0.835, 0.77, 0.8109999999999999, 0.696, 0.8140000000000001, 0.863, 0.8029999999999999, 0.662, 0.67, 0.731, 0.684, 0.674, 0.903, 0.439, 0.534, 0.893, 0.701, 0.35100000000000003, 0.7040000000000001, 0.674, 0.677, 0.636, 0.67, 0.7070000000000001, 0.856, 0.659, 0.569, 0.183, 0.314, 0.5589999999999999, 0.287, 0.557, 0.787, 0.764, 0.606, 0.7290000000000001, 0.7170000000000001, 0.608, 0.5710000000000001, 0.5479999999999999, 0.602, 0.7390000000000001, 0.59, 0.728, 0.691, 0.611, 0.7170000000000001, 0.262, 0.6709999999999999, 0.414, 0.42200000000000004, 0.752, 0.6990000000000001, 0.762, 0.6970000000000001, 0.774, 0.765, 0.845, 0.759, 0.752, 0.7040000000000001, 0.40700000000000003, 0.607, 0.599, 0.56, 0.65, 0.7509999999999999, 0.6609999999999999, 0.647, 0.743, 0.604, 0.703, 0.54, 0.622, 0.6709999999999999, 0.7070000000000001, 0.505, 0.484, 0.536, 0.691, 0.585, 0.397, 0.63, 0.445, 0.619], \"size\": 12}, \"mode\": \"markers\", \"text\": [\"Whitney Houston - I Will Always Love You\", \"Paul Young - Love of the Common People\", \"Shakin' Stevens - Because I Love You\", \"Phosphorescent - Song For Zula\", \"Ronnie Fauss - Song for Zula\", \"Paul Young - Every Time You Go Away - Radio Edit\", \"Lord Huron - The Night We Met\", \"Harry James - It's Been a Long, Long Time\", \"James Horner - My Heart Will Go On - Love Theme from \\\"Titanic\\\"\", \"Bee Gees - How Deep Is Your Love\", \"Little Mix - Love Me Like You\", \"Enrique Iglesias - Still Your King\", \"BTS - Boy With Luv (feat. Halsey)\", \"Phoebe Ryan - Dollar Bill (feat. Kid Ink)\", \"Zara Larsson - Invisible - from the Netflix Film Klaus\", \"Dj Orlinda - Somebody Come Get Her\", \"SAINt JHN - Roses - Imanbek Remix\", \"Justin Bieber - Intentions\", \"Britney Spears - Criminal\", \"Wiz Khalifa - Something New (feat. Ty Dolla $ign)\", \"BENEE - Supalonely\", \"KAROL G - Tusa\", \"Ariana Grande - in my head\", \"Alan Walker - Alone, Pt. II\", \"Surf Mesa - Somewhere (feat. Gus Dapperton)\", \"Marshmello - Be Kind (with Halsey) [Surf Mesa Remix]\", \"Surf Mesa - ily (i love you baby) (feat. Emilee)\", \"LPB Poody - Address It\", \"Christina Perri - human\", \"Ryan L Stewart - Memories\", \"Princess Nokia - I Like Him\", \"Billie Eilish - bad guy\", \"Billie Eilish - lovely (with Khalid)\", \"Billie Eilish - everything i wanted\", \"Becky G - Next To You Part II (feat. Rvssian & Davido)\", \"Niall Horan - This Town\", \"Various Artists - Just The Way You Are\", \"Chris Brown - Next To You (feat. Justin Bieber)\", \"Doja Cat - Boss Bitch\", \"Doja Cat - Say So (feat. Nicki Minaj)\", \"Arash - Broken Angel\", \"The Chainsmokers - Until You Were Gone (feat. Emily Warren)\", \"Jan A.P. Kaczmarek - Braille\", \"Yiruma - River Flows In You\", \"Yiruma - Kiss The Rain\", \"Yiruma - River Flows in You\", \"Yiruma - Kiss the Rain\", \"Doja Cat - Say So\", \"Maroon 5 - Memories\", \"PUBLIC - Make You Mine\", \"Justin Bieber - Love Me\", \"Justin Bieber - Boyfriend\", \"Major Lazer - Cold Water (feat. Justin Bieber & M\\u00d8)\", \"Justin Bieber - As Long As You Love Me\", \"David Guetta - 2U (feat. Justin Bieber)\", \"Justin Bieber - Beauty And A Beat\", \"Justin Bieber - Never Say Never\", \"Justin Bieber - Company\", \"Justin Bieber - Baby\", \"Justin Bieber - One Time\", \"ZAYN - iT's YoU\", \"Ariana Grande - thank u, next\", \"Ellie Goulding - Love Me Like You Do - From \\\"Fifty Shades Of Grey\\\"\", \"Katy Perry - Roar\", \"Calvin Harris - Blame (feat. John Newman)\", \"John Legend - All of Me\", \"Halsey - Without Me\", \"Ariana Grande - no tears left to cry\", \"Dua Lipa - New Rules\", \"Anne-Marie - 2002\", \"MAGIC! - Rude\", \"Camila Cabello - Havana (feat. Young Thug)\", \"Justin Bieber - What Do You Mean?\", \"Shawn Mendes - Se\\u00f1orita\", \"Lauv - I Like Me Better\", \"Madison Beer - Hurts Like Hell (feat. Offset)\", \"Olivia O'Brien - hate u love u\", \"Cheat Codes - Only You (with Little Mix)\", \"Lauv - i'm so tired...\", \"benny blanco - Eastside (with Halsey & Khalid)\", \"Camila Cabello - She Loves Control\", \"Camila Cabello - Havana - Remix\", \"Various Artists - Capital Letters\", \"Rita Ora - Falling to Pieces\", \"Maroon 5 - Payphone\", \"Various Artists - Sunflower (Remix) [with Swae Lee, Nicky Jam, and Prince Royce]\", \"Ariana Grande - Bang Bang\", \"Ariana Grande - My Everything\", \"Ariana Grande - Be My Baby\", \"Ariana Grande - Focus\", \"Jessie J - Bang Bang\", \"Ariana Grande - Thinking Bout You\", \"Ariana Grande - Knew Better / Forever Boy\", \"Ariana Grande - Touch It\", \"Ariana Grande - Bad Decisions\", \"Ariana Grande - I Don't Care\", \"Ariana Grande - Sometimes\", \"Ariana Grande - Everyday\", \"Ariana Grande - Leave Me Lonely\", \"Ariana Grande - Greedy\"], \"type\": \"scatter3d\", \"x\": [0.8401130762785083, -0.2874425789236303, 0.1776866834328497, 0.4930777246132785, 0.4659433409616997, -0.23193809580756805, 0.7923049741019799, 0.7296291705970105, 1.0560028438133855, -0.06704658154333702, -0.38332157443222087, -0.5242813352945915, -0.44814072158663454, -0.33296629920344445, -0.20499603885254017, -0.07001880979185937, -0.5161244675295831, -0.19817420873636982, -0.37965739887300387, -0.35963035454302983, -0.2801880348695238, -0.2801589732728794, -0.05463589742075359, -0.01714233728264404, -0.3470770353210099, -0.26125521388490774, -0.2325204188828182, -0.2086153666740214, 0.08671442729358438, 1.285529502632329, -0.28976152751159767, 0.06713650691338235, 0.8082198395169972, 0.943870743440398, -0.053493028311196636, 0.44902945862515975, -0.3166634663793084, -0.21663736825105764, -0.43271390626462364, -0.453754641017611, -0.22788124436869106, -0.09729393054289913, 1.6020265649905516, 1.4281235135796408, 1.390614526684327, 1.2799906814886226, 1.2717257836144598, -0.3138544250833819, 0.35364160027195257, -0.37802241042131457, -0.49433298990402386, -0.14949689961554116, -0.283034884060734, -0.4051912924376655, -0.12021165539253015, -0.3418980360982137, -0.4459960929511313, -0.20592210994334106, -0.404951810788771, -0.46471459981873403, 0.625601991170525, -0.11209921253802528, 0.1719713890228794, -0.343139940140111, -0.2507399674477234, 0.6509578719670744, -0.028533937818180068, -0.25213856896343695, -0.36607557308135574, -0.3768346178537509, -0.5263029746654667, -0.11116398506914628, -0.008060816050850579, -0.3110863785448962, 0.11183638361138161, -0.1846722298781687, 0.4763377111966717, -0.16241044751453923, -0.21668044766927863, 0.13809413578417967, -0.3115895685253208, 0.012895748920143052, -0.29931166355272526, -0.2324972287342722, -0.38285090985894593, -0.05393563084010593, -0.29084264500187057, 0.5048457434886886, -0.12430346326461826, -0.412581807863519, -0.31015050176749526, -0.19352073330418787, 0.12681660186746238, -0.16681749347808467, -0.4099295818769477, 0.49411044697642825, -0.24004015734303033, -0.2826008999893377, 0.3099410211995796, -0.4027205635309946], \"y\": [0.5263442430271629, -0.19148458185664285, 0.09639473989803635, -0.10837029842330158, 0.12949325107792328, -0.34300983094916054, -0.14271316823186284, 0.3075588462851309, 0.5617799564302143, -0.017215937381376653, -0.20760489472993351, -0.21965087391302784, -0.1661903676983358, 0.12099915733832263, 0.356187215379324, 0.22229482979484197, -0.3051635124033421, -0.3784023504638495, -0.050322959831303325, -0.10434241466502613, -0.2899884469603598, -0.10637388139204254, 0.09596441830299669, 0.055825391302176834, -0.1243599291346627, 0.09611299446626173, 0.10088417544761166, 0.024235203810371142, 0.2378222982917599, -0.2986935929258438, -0.24136082487024327, -0.35978438576035593, 0.34210318438816767, -0.3121172745074933, 0.22718409956968205, 0.1995446541723398, 0.15454268015227554, 0.2000033200852158, -0.13591657944438135, -0.29682549805432823, -0.0837319944924841, 0.1673172533154263, -0.20164912958333292, -0.3317540339602516, -0.4337188374120467, -0.4756973587050905, -0.3343793319864021, -0.21590631456772152, -0.028779527620914742, 0.07525944843846419, -0.08545370286185415, 0.22799806488650098, 0.17771721757009307, -0.10077808259193939, -0.058874057527947755, 0.06255349111467967, -0.014951411252962836, 0.22973069771041701, 0.1610958667194274, -0.17351540588042932, 0.15447297316914388, 0.11896911699010357, 0.11491063369632178, 0.18002039531208738, 0.19617968120049217, 0.1769090174274348, -0.09875663116560834, 0.09990050034498503, -0.05379995415730235, 0.050572275570853094, -0.3830810439174414, 0.1480331696382531, -0.3316331546502769, -0.11755834818118686, -0.001650503649600327, 0.03960174585666052, -0.012198782111272281, 0.2597881594674159, -0.004576270854975951, 0.11535754038879674, 0.019160469769223913, 0.160208562386982, 0.16328662260533475, 0.25416599473057194, 0.013748357550712888, -0.01517668362522424, -0.2862475192313384, 0.28728274302973644, 0.04689989297948886, -0.26949108798970217, -0.29790610359524455, 0.2284692228728026, 0.23705589513689992, 0.33468156632685103, -0.22351079190321366, 0.1953913095372658, 0.12580800031110298, 0.067331285733142, 0.21836772473516167, -0.12885188866999947], \"z\": [-0.1660624127548101, -0.26176636161176825, -0.02758324720250058, -0.1305877543248306, 0.12324109509328565, 0.3225470897024673, 0.633715972864988, 0.006180180189301142, -0.08036976764109428, -0.020531574186840196, 0.0022775188259187874, 0.13753270773296183, 0.038930126243018615, -0.07658376708219322, 0.214559659592243, -0.20757040210141361, 0.14956479161450295, -0.009332253306381658, 0.06190011002058286, -0.26755581601965256, -0.07966700847830799, -0.5549518054863949, 0.09631222007394195, -0.15296207972911594, 0.11065441855148993, 0.03697874641804309, 0.19265298014330298, -0.5160813743739522, 0.3019145103637694, -0.060213991055856696, -0.049230792993776765, -0.504971331262837, 0.03938080194375079, -0.2010012428914093, -0.019003390191645757, -0.0629341461108726, 0.08176164856605812, 0.09759366626665018, -0.11495885947113357, -0.1431749346602615, -0.002954673603023917, 0.13431354253092762, 0.1920115883354589, 0.15913550991270164, -0.014958188968852959, 0.16244695887474542, -0.09200191503558736, -0.29216559324112734, -0.348433170244658, 0.09526943621857703, 0.18427383189711818, -0.040640766330253875, 0.03356316928503203, 0.30600679488365534, 0.25727394520390634, 0.12617625039035518, 0.040826871107233785, -0.025320484837715193, -0.31821037707160177, 0.1684342242228349, -0.019122435123733756, -0.06704371534244365, 0.5731445140108911, 0.16206902032836126, 0.3928591883766658, 0.025923270650857696, -0.02445527346036809, 0.20322953960934398, 0.00117380855413866, -0.14494252486061424, 0.22651731910713652, -0.025951721076155843, -0.25179591282630975, -0.027431566312551742, -0.5317536676761342, -0.4261928736927249, 0.12224131717492984, -0.10429544748652833, -0.15478050733490106, -0.5148105875430896, -0.18398541868443594, -0.04647515891490363, -0.06721678648930933, 0.09710215555926087, 0.1349616911307814, 0.25457469792893284, 0.25732147867259664, -0.2887686461372299, 0.1979546718599608, -0.15318801339086655, 0.24442991473368028, 0.08427852948139275, -0.004789715071673066, 0.16381031397976759, 0.19368927163597763, -0.026919819236732773, -0.1654522559315422, 0.2092654678568546, 0.1046333655305612, -0.08545837438879086]}],\n",
       "                        {\"template\": {\"data\": {\"bar\": [{\"error_x\": {\"color\": \"#2a3f5f\"}, \"error_y\": {\"color\": \"#2a3f5f\"}, \"marker\": {\"line\": {\"color\": \"#E5ECF6\", \"width\": 0.5}}, \"type\": \"bar\"}], \"barpolar\": [{\"marker\": {\"line\": {\"color\": \"#E5ECF6\", \"width\": 0.5}}, \"type\": \"barpolar\"}], \"carpet\": [{\"aaxis\": {\"endlinecolor\": \"#2a3f5f\", \"gridcolor\": \"white\", \"linecolor\": \"white\", \"minorgridcolor\": \"white\", \"startlinecolor\": \"#2a3f5f\"}, \"baxis\": {\"endlinecolor\": \"#2a3f5f\", \"gridcolor\": \"white\", \"linecolor\": \"white\", \"minorgridcolor\": \"white\", \"startlinecolor\": \"#2a3f5f\"}, \"type\": \"carpet\"}], \"choropleth\": [{\"colorbar\": {\"outlinewidth\": 0, \"ticks\": \"\"}, \"type\": \"choropleth\"}], \"contour\": [{\"colorbar\": {\"outlinewidth\": 0, \"ticks\": \"\"}, \"colorscale\": [[0.0, \"#0d0887\"], [0.1111111111111111, \"#46039f\"], [0.2222222222222222, \"#7201a8\"], [0.3333333333333333, \"#9c179e\"], [0.4444444444444444, \"#bd3786\"], [0.5555555555555556, \"#d8576b\"], [0.6666666666666666, \"#ed7953\"], [0.7777777777777778, \"#fb9f3a\"], [0.8888888888888888, \"#fdca26\"], [1.0, \"#f0f921\"]], \"type\": \"contour\"}], \"contourcarpet\": [{\"colorbar\": {\"outlinewidth\": 0, \"ticks\": \"\"}, \"type\": \"contourcarpet\"}], \"heatmap\": [{\"colorbar\": {\"outlinewidth\": 0, \"ticks\": \"\"}, \"colorscale\": [[0.0, \"#0d0887\"], [0.1111111111111111, \"#46039f\"], [0.2222222222222222, \"#7201a8\"], [0.3333333333333333, \"#9c179e\"], [0.4444444444444444, \"#bd3786\"], [0.5555555555555556, \"#d8576b\"], [0.6666666666666666, \"#ed7953\"], [0.7777777777777778, \"#fb9f3a\"], [0.8888888888888888, \"#fdca26\"], [1.0, \"#f0f921\"]], \"type\": \"heatmap\"}], \"heatmapgl\": [{\"colorbar\": {\"outlinewidth\": 0, \"ticks\": \"\"}, \"colorscale\": [[0.0, \"#0d0887\"], [0.1111111111111111, \"#46039f\"], [0.2222222222222222, \"#7201a8\"], [0.3333333333333333, \"#9c179e\"], [0.4444444444444444, \"#bd3786\"], [0.5555555555555556, \"#d8576b\"], [0.6666666666666666, \"#ed7953\"], [0.7777777777777778, \"#fb9f3a\"], [0.8888888888888888, \"#fdca26\"], [1.0, \"#f0f921\"]], \"type\": \"heatmapgl\"}], \"histogram\": [{\"marker\": {\"colorbar\": {\"outlinewidth\": 0, \"ticks\": \"\"}}, \"type\": \"histogram\"}], \"histogram2d\": [{\"colorbar\": {\"outlinewidth\": 0, \"ticks\": \"\"}, \"colorscale\": [[0.0, \"#0d0887\"], [0.1111111111111111, \"#46039f\"], [0.2222222222222222, \"#7201a8\"], [0.3333333333333333, \"#9c179e\"], [0.4444444444444444, \"#bd3786\"], [0.5555555555555556, \"#d8576b\"], [0.6666666666666666, \"#ed7953\"], [0.7777777777777778, \"#fb9f3a\"], [0.8888888888888888, \"#fdca26\"], [1.0, \"#f0f921\"]], \"type\": \"histogram2d\"}], \"histogram2dcontour\": [{\"colorbar\": {\"outlinewidth\": 0, \"ticks\": \"\"}, \"colorscale\": [[0.0, \"#0d0887\"], [0.1111111111111111, \"#46039f\"], [0.2222222222222222, \"#7201a8\"], [0.3333333333333333, \"#9c179e\"], [0.4444444444444444, \"#bd3786\"], [0.5555555555555556, \"#d8576b\"], [0.6666666666666666, \"#ed7953\"], [0.7777777777777778, \"#fb9f3a\"], [0.8888888888888888, \"#fdca26\"], [1.0, \"#f0f921\"]], \"type\": \"histogram2dcontour\"}], \"mesh3d\": [{\"colorbar\": {\"outlinewidth\": 0, \"ticks\": \"\"}, \"type\": \"mesh3d\"}], \"parcoords\": [{\"line\": {\"colorbar\": {\"outlinewidth\": 0, \"ticks\": \"\"}}, \"type\": \"parcoords\"}], \"pie\": [{\"automargin\": true, \"type\": \"pie\"}], \"scatter\": [{\"marker\": {\"colorbar\": {\"outlinewidth\": 0, \"ticks\": \"\"}}, \"type\": \"scatter\"}], \"scatter3d\": [{\"line\": {\"colorbar\": {\"outlinewidth\": 0, \"ticks\": \"\"}}, \"marker\": {\"colorbar\": {\"outlinewidth\": 0, \"ticks\": \"\"}}, \"type\": \"scatter3d\"}], \"scattercarpet\": [{\"marker\": {\"colorbar\": {\"outlinewidth\": 0, \"ticks\": \"\"}}, \"type\": \"scattercarpet\"}], \"scattergeo\": [{\"marker\": {\"colorbar\": {\"outlinewidth\": 0, \"ticks\": \"\"}}, \"type\": \"scattergeo\"}], \"scattergl\": [{\"marker\": {\"colorbar\": {\"outlinewidth\": 0, \"ticks\": \"\"}}, \"type\": \"scattergl\"}], \"scattermapbox\": [{\"marker\": {\"colorbar\": {\"outlinewidth\": 0, \"ticks\": \"\"}}, \"type\": \"scattermapbox\"}], \"scatterpolar\": [{\"marker\": {\"colorbar\": {\"outlinewidth\": 0, \"ticks\": \"\"}}, \"type\": \"scatterpolar\"}], \"scatterpolargl\": [{\"marker\": {\"colorbar\": {\"outlinewidth\": 0, \"ticks\": \"\"}}, \"type\": \"scatterpolargl\"}], \"scatterternary\": [{\"marker\": {\"colorbar\": {\"outlinewidth\": 0, \"ticks\": \"\"}}, \"type\": \"scatterternary\"}], \"surface\": [{\"colorbar\": {\"outlinewidth\": 0, \"ticks\": \"\"}, \"colorscale\": [[0.0, \"#0d0887\"], [0.1111111111111111, \"#46039f\"], [0.2222222222222222, \"#7201a8\"], [0.3333333333333333, \"#9c179e\"], [0.4444444444444444, \"#bd3786\"], [0.5555555555555556, \"#d8576b\"], [0.6666666666666666, \"#ed7953\"], [0.7777777777777778, \"#fb9f3a\"], [0.8888888888888888, \"#fdca26\"], [1.0, \"#f0f921\"]], \"type\": \"surface\"}], \"table\": [{\"cells\": {\"fill\": {\"color\": \"#EBF0F8\"}, \"line\": {\"color\": \"white\"}}, \"header\": {\"fill\": {\"color\": \"#C8D4E3\"}, \"line\": {\"color\": \"white\"}}, \"type\": \"table\"}]}, \"layout\": {\"annotationdefaults\": {\"arrowcolor\": \"#2a3f5f\", \"arrowhead\": 0, \"arrowwidth\": 1}, \"coloraxis\": {\"colorbar\": {\"outlinewidth\": 0, \"ticks\": \"\"}}, \"colorscale\": {\"diverging\": [[0, \"#8e0152\"], [0.1, \"#c51b7d\"], [0.2, \"#de77ae\"], [0.3, \"#f1b6da\"], [0.4, \"#fde0ef\"], [0.5, \"#f7f7f7\"], [0.6, \"#e6f5d0\"], [0.7, \"#b8e186\"], [0.8, \"#7fbc41\"], [0.9, \"#4d9221\"], [1, \"#276419\"]], \"sequential\": [[0.0, \"#0d0887\"], [0.1111111111111111, \"#46039f\"], [0.2222222222222222, \"#7201a8\"], [0.3333333333333333, \"#9c179e\"], [0.4444444444444444, \"#bd3786\"], [0.5555555555555556, \"#d8576b\"], [0.6666666666666666, \"#ed7953\"], [0.7777777777777778, \"#fb9f3a\"], [0.8888888888888888, \"#fdca26\"], [1.0, \"#f0f921\"]], \"sequentialminus\": [[0.0, \"#0d0887\"], [0.1111111111111111, \"#46039f\"], [0.2222222222222222, \"#7201a8\"], [0.3333333333333333, \"#9c179e\"], [0.4444444444444444, \"#bd3786\"], [0.5555555555555556, \"#d8576b\"], [0.6666666666666666, \"#ed7953\"], [0.7777777777777778, \"#fb9f3a\"], [0.8888888888888888, \"#fdca26\"], [1.0, \"#f0f921\"]]}, \"colorway\": [\"#636efa\", \"#EF553B\", \"#00cc96\", \"#ab63fa\", \"#FFA15A\", \"#19d3f3\", \"#FF6692\", \"#B6E880\", \"#FF97FF\", \"#FECB52\"], \"font\": {\"color\": \"#2a3f5f\"}, \"geo\": {\"bgcolor\": \"white\", \"lakecolor\": \"white\", \"landcolor\": \"#E5ECF6\", \"showlakes\": true, \"showland\": true, \"subunitcolor\": \"white\"}, \"hoverlabel\": {\"align\": \"left\"}, \"hovermode\": \"closest\", \"mapbox\": {\"style\": \"light\"}, \"paper_bgcolor\": \"white\", \"plot_bgcolor\": \"#E5ECF6\", \"polar\": {\"angularaxis\": {\"gridcolor\": \"white\", \"linecolor\": \"white\", \"ticks\": \"\"}, \"bgcolor\": \"#E5ECF6\", \"radialaxis\": {\"gridcolor\": \"white\", \"linecolor\": \"white\", \"ticks\": \"\"}}, \"scene\": {\"xaxis\": {\"backgroundcolor\": \"#E5ECF6\", \"gridcolor\": \"white\", \"gridwidth\": 2, \"linecolor\": \"white\", \"showbackground\": true, \"ticks\": \"\", \"zerolinecolor\": \"white\"}, \"yaxis\": {\"backgroundcolor\": \"#E5ECF6\", \"gridcolor\": \"white\", \"gridwidth\": 2, \"linecolor\": \"white\", \"showbackground\": true, \"ticks\": \"\", \"zerolinecolor\": \"white\"}, \"zaxis\": {\"backgroundcolor\": \"#E5ECF6\", \"gridcolor\": \"white\", \"gridwidth\": 2, \"linecolor\": \"white\", \"showbackground\": true, \"ticks\": \"\", \"zerolinecolor\": \"white\"}}, \"shapedefaults\": {\"line\": {\"color\": \"#2a3f5f\"}}, \"ternary\": {\"aaxis\": {\"gridcolor\": \"white\", \"linecolor\": \"white\", \"ticks\": \"\"}, \"baxis\": {\"gridcolor\": \"white\", \"linecolor\": \"white\", \"ticks\": \"\"}, \"bgcolor\": \"#E5ECF6\", \"caxis\": {\"gridcolor\": \"white\", \"linecolor\": \"white\", \"ticks\": \"\"}}, \"title\": {\"x\": 0.05}, \"xaxis\": {\"automargin\": true, \"gridcolor\": \"white\", \"linecolor\": \"white\", \"ticks\": \"\", \"title\": {\"standoff\": 15}, \"zerolinecolor\": \"white\", \"zerolinewidth\": 2}, \"yaxis\": {\"automargin\": true, \"gridcolor\": \"white\", \"linecolor\": \"white\", \"ticks\": \"\", \"title\": {\"standoff\": 15}, \"zerolinecolor\": \"white\", \"zerolinewidth\": 2}}}},\n",
       "                        {\"responsive\": true}\n",
       "                    ).then(function(){\n",
       "                            \n",
       "var gd = document.getElementById('530e9ac6-3707-47f5-bcdd-dd659038cf1b');\n",
       "var x = new MutationObserver(function (mutations, observer) {{\n",
       "        var display = window.getComputedStyle(gd).display;\n",
       "        if (!display || display === 'none') {{\n",
       "            console.log([gd, 'removed!']);\n",
       "            Plotly.purge(gd);\n",
       "            observer.disconnect();\n",
       "        }}\n",
       "}});\n",
       "\n",
       "// Listen for the removal of the full notebook cells\n",
       "var notebookContainer = gd.closest('#notebook-container');\n",
       "if (notebookContainer) {{\n",
       "    x.observe(notebookContainer, {childList: true});\n",
       "}}\n",
       "\n",
       "// Listen for the clearing of the current output cell\n",
       "var outputEl = gd.closest('.output');\n",
       "if (outputEl) {{\n",
       "    x.observe(outputEl, {childList: true});\n",
       "}}\n",
       "\n",
       "                        })\n",
       "                };\n",
       "                });\n",
       "            </script>\n",
       "        </div>"
      ]
     },
     "metadata": {},
     "output_type": "display_data"
    }
   ],
   "source": [
    "\n",
    "specific = [\"energy\", \"liveness\", \"tempo\", \"valence\", \"loudness\", \"speechiness\", \"acousticness\", \"danceability\", \"instrumentalness\"]\n",
    "text1 = data[\"artist\"] + \" - \" + data[\"name\"]\n",
    "text2 = text1.values\n",
    "\n",
    "\n",
    "X = data[specific].values\n",
    "y = data[\"danceability\"].values\n",
    "\n",
    "min_max_scaler = MinMaxScaler()\n",
    "X = min_max_scaler.fit_transform(X)\n",
    "\n",
    "pca = PCA(n_components=3)\n",
    "pca.fit(X)\n",
    "\n",
    "X = pca.transform(X)\n",
    "\n",
    "import plotly.offline as py\n",
    "py.init_notebook_mode(connected=True)\n",
    "import plotly.graph_objs as go\n",
    "import plotly.tools as tls\n",
    "\n",
    "trace = go.Scatter3d(\n",
    "    x=X[:,0],\n",
    "    y=X[:,1],\n",
    "    z=X[:,2],\n",
    "    text=text2,\n",
    "    mode=\"markers\",\n",
    "    marker=dict(\n",
    "        size=12,\n",
    "        color=y\n",
    "    )\n",
    ")\n",
    "\n",
    "fig = go.Figure(data=[trace])\n",
    "py.iplot(fig, filename=\"test-graph\")\n",
    "\n"
   ]
  },
  {
   "cell_type": "markdown",
   "metadata": {},
   "source": [
    "**Here we can see that \" Billie Ellish- Everything i wanted\" and \"Lurd Hurdon- The Night We Met\" are placed differently as most of the other songs have many similarities in terms of their Audio Features.**"
   ]
  },
  {
   "cell_type": "code",
   "execution_count": 86,
   "metadata": {},
   "outputs": [
    {
     "name": "stdout",
     "output_type": "stream",
     "text": [
      "Mean value for danceability: 0.6253799999999999\n"
     ]
    },
    {
     "data": {
      "image/png": "[encoded data removed]",
      "text/plain": [
       "<Figure size 432x288 with 1 Axes>"
      ]
     },
     "metadata": {
      "needs_background": "light"
     },
     "output_type": "display_data"
    },
    {
     "name": "stdout",
     "output_type": "stream",
     "text": [
      "Mean value for energy: 0.5942550000000001\n"
     ]
    },
    {
     "data": {
      "image/png": "[encoded data removed]",
      "text/plain": [
       "<Figure size 432x288 with 1 Axes>"
      ]
     },
     "metadata": {
      "needs_background": "light"
     },
     "output_type": "display_data"
    },
    {
     "name": "stdout",
     "output_type": "stream",
     "text": [
      "Mean value for speechiness: 0.08144900000000002\n"
     ]
    },
    {
     "data": {
      "image/png": "[encoded data removed]",
      "text/plain": [
       "<Figure size 432x288 with 1 Axes>"
      ]
     },
     "metadata": {
      "needs_background": "light"
     },
     "output_type": "display_data"
    },
    {
     "name": "stdout",
     "output_type": "stream",
     "text": [
      "Mean value for acousticness: 0.2982931799999999\n"
     ]
    },
    {
     "data": {
      "image/png": "[encoded data removed]",
      "text/plain": [
       "<Figure size 432x288 with 1 Axes>"
      ]
     },
     "metadata": {
      "needs_background": "light"
     },
     "output_type": "display_data"
    },
    {
     "name": "stdout",
     "output_type": "stream",
     "text": [
      "Mean value for instrumentalness: 0.07246728710000001\n"
     ]
    },
    {
     "data": {
      "image/png": "[encoded data removed]",
      "text/plain": [
       "<Figure size 432x288 with 1 Axes>"
      ]
     },
     "metadata": {
      "needs_background": "light"
     },
     "output_type": "display_data"
    },
    {
     "name": "stdout",
     "output_type": "stream",
     "text": [
      "Mean value for liveness: 0.17077799999999999\n"
     ]
    },
    {
     "data": {
      "image/png": "[encoded data removed]",
      "text/plain": [
       "<Figure size 432x288 with 1 Axes>"
      ]
     },
     "metadata": {
      "needs_background": "light"
     },
     "output_type": "display_data"
    },
    {
     "name": "stdout",
     "output_type": "stream",
     "text": [
      "Mean value for valence: 0.48755400000000004\n"
     ]
    },
    {
     "data": {
      "image/png": "[encoded data removed]",
      "text/plain": [
       "<Figure size 432x288 with 1 Axes>"
      ]
     },
     "metadata": {
      "needs_background": "light"
     },
     "output_type": "display_data"
    }
   ],
   "source": [
    "#Calculating mean value of some music features.\n",
    "print(\"Mean value for danceability:\", data['danceability'].mean())\n",
    "sns.distplot(data['danceability'])\n",
    "plt.show()\n",
    "print(\"Mean value for energy:\", data['energy'].mean())\n",
    "sns.distplot(data['energy'])\n",
    "plt.show()\n",
    "print(\"Mean value for speechiness:\", data['speechiness'].mean())\n",
    "sns.distplot(data['speechiness'])\n",
    "plt.show()\n",
    "print(\"Mean value for acousticness:\", data['acousticness'].mean())\n",
    "sns.distplot(data['acousticness'])\n",
    "plt.show()\n",
    "print(\"Mean value for instrumentalness:\", data['instrumentalness'].mean())\n",
    "sns.distplot(data['instrumentalness'])\n",
    "plt.show()\n",
    "print(\"Mean value for liveness:\", data['liveness'].mean())\n",
    "sns.distplot(data['liveness'])\n",
    "plt.show()\n",
    "print(\"Mean value for valence:\", data['valence'].mean())\n",
    "sns.distplot(data['valence'])\n",
    "plt.show()"
   ]
  },
  {
   "cell_type": "code",
   "execution_count": 91,
   "metadata": {},
   "outputs": [
    {
     "data": {
      "image/png": "[encoded data removed]",
      "text/plain": [
       "<Figure size 432x288 with 1 Axes>"
      ]
     },
     "metadata": {
      "needs_background": "light"
     },
     "output_type": "display_data"
    }
   ],
   "source": [
    "numeric = data.drop(['id','name','artist'], axis=1)\n",
    "small = numeric.drop(['tempo','duration_ms','key','loudness','time_signature','length',\"Unnamed: 0\",\"popularity\",\"danceability.1\"], axis=1)\n",
    "small.mean().plot.bar()\n",
    "plt.title('Mean Values of Audio Features')\n",
    "plt.show()"
   ]
  },
  {
   "cell_type": "markdown",
   "metadata": {},
   "source": [
    "\n",
    "\n",
    "**It's shown that i listen to these certain songs that have more upbeat and entertaining music that is portrayed through their Audio Features such as \"Danceablity\", \"Energy\" and \"Valence\"**\n"
   ]
  }
 ],
 "metadata": {
  "kernelspec": {
   "display_name": "Python 3",
   "language": "python",
   "name": "python3"
  },
  "language_info": {
   "codemirror_mode": {
    "name": "ipython",
    "version": 3
   },
   "file_extension": ".py",
   "mimetype": "text/x-python",
   "name": "python",
   "nbconvert_exporter": "python",
   "pygments_lexer": "ipython3",
   "version": "3.8.3"
  }
 },
 "nbformat": 4,
 "nbformat_minor": 4
}
